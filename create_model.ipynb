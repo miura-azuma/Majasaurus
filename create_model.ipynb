{
  "nbformat": 4,
  "nbformat_minor": 0,
  "metadata": {
    "colab": {
      "provenance": [],
      "gpuType": "T4",
      "authorship_tag": "ABX9TyNVOQDsis9l8GA1PXlnMmrt",
      "include_colab_link": true
    },
    "kernelspec": {
      "name": "python3",
      "display_name": "Python 3"
    },
    "language_info": {
      "name": "python"
    },
    "accelerator": "GPU"
  },
  "cells": [
    {
      "cell_type": "markdown",
      "metadata": {
        "id": "view-in-github",
        "colab_type": "text"
      },
      "source": [
        "<a href=\"https://colab.research.google.com/github/miura-azuma/Majasaurus/blob/main/create_model.ipynb\" target=\"_parent\"><img src=\"https://colab.research.google.com/assets/colab-badge.svg\" alt=\"Open In Colab\"/></a>"
      ]
    },
    {
      "cell_type": "code",
      "execution_count": 1,
      "metadata": {
        "colab": {
          "base_uri": "https://localhost:8080/"
        },
        "id": "KzwjgsFqkIKC",
        "outputId": "6df7e4bb-30ed-4cda-fcc8-48bb83c285c4"
      },
      "outputs": [
        {
          "output_type": "stream",
          "name": "stdout",
          "text": [
            "/content\n",
            "Cloning into 'ultralytics'...\n",
            "remote: Enumerating objects: 10596, done.\u001b[K\n",
            "remote: Counting objects: 100% (1441/1441), done.\u001b[K\n",
            "remote: Compressing objects: 100% (620/620), done.\u001b[K\n",
            "remote: Total 10596 (delta 893), reused 1241 (delta 805), pack-reused 9155\u001b[K\n",
            "Receiving objects: 100% (10596/10596), 6.88 MiB | 23.33 MiB/s, done.\n",
            "Resolving deltas: 100% (7087/7087), done.\n"
          ]
        }
      ],
      "source": [
        "%cd /content\n",
        "!git clone https://github.com/ultralytics/ultralytics"
      ]
    },
    {
      "cell_type": "code",
      "source": [
        "!git clone https://github.com/miura-azuma/Majasaurus.git"
      ],
      "metadata": {
        "colab": {
          "base_uri": "https://localhost:8080/"
        },
        "id": "_kuKmhjCWYsu",
        "outputId": "7c7f768b-8f42-44fa-df70-d6597ffcdbd3"
      },
      "execution_count": 2,
      "outputs": [
        {
          "output_type": "stream",
          "name": "stdout",
          "text": [
            "Cloning into 'Majasaurus'...\n",
            "remote: Enumerating objects: 899, done.\u001b[K\n",
            "remote: Counting objects: 100% (88/88), done.\u001b[K\n",
            "remote: Compressing objects: 100% (77/77), done.\u001b[K\n",
            "remote: Total 899 (delta 8), reused 88 (delta 8), pack-reused 811\u001b[K\n",
            "Receiving objects: 100% (899/899), 847.34 MiB | 38.51 MiB/s, done.\n",
            "Resolving deltas: 100% (47/47), done.\n",
            "Updating files: 100% (820/820), done.\n"
          ]
        }
      ]
    },
    {
      "cell_type": "code",
      "source": [
        "from google.colab import drive\n",
        "drive.mount('/content/drive')"
      ],
      "metadata": {
        "colab": {
          "base_uri": "https://localhost:8080/"
        },
        "id": "otaFatzOe8lb",
        "outputId": "8e53ad88-1a99-40b8-fc07-769577a92bfd"
      },
      "execution_count": 3,
      "outputs": [
        {
          "output_type": "stream",
          "name": "stdout",
          "text": [
            "Mounted at /content/drive\n"
          ]
        }
      ]
    },
    {
      "cell_type": "code",
      "source": [
        "%cd /content/ultralytics"
      ],
      "metadata": {
        "colab": {
          "base_uri": "https://localhost:8080/"
        },
        "id": "KxAAKsrgl-br",
        "outputId": "a2acec60-3052-422e-fda6-0a7a61072b48"
      },
      "execution_count": 4,
      "outputs": [
        {
          "output_type": "stream",
          "name": "stdout",
          "text": [
            "/content/ultralytics\n"
          ]
        }
      ]
    },
    {
      "cell_type": "code",
      "source": [
        "!pip install -e '.[dev]'"
      ],
      "metadata": {
        "id": "ikYIobdomLyW",
        "colab": {
          "base_uri": "https://localhost:8080/"
        },
        "outputId": "424c0b82-3016-4986-fd59-563d8efc3aa0"
      },
      "execution_count": 5,
      "outputs": [
        {
          "output_type": "stream",
          "name": "stdout",
          "text": [
            "Looking in indexes: https://pypi.org/simple, https://us-python.pkg.dev/colab-wheels/public/simple/\n",
            "Obtaining file:///content/ultralytics\n",
            "  Preparing metadata (setup.py) ... \u001b[?25l\u001b[?25hdone\n",
            "Requirement already satisfied: matplotlib>=3.2.2 in /usr/local/lib/python3.10/dist-packages (from ultralytics==8.0.120) (3.7.1)\n",
            "Requirement already satisfied: opencv-python>=4.6.0 in /usr/local/lib/python3.10/dist-packages (from ultralytics==8.0.120) (4.7.0.72)\n",
            "Requirement already satisfied: Pillow>=7.1.2 in /usr/local/lib/python3.10/dist-packages (from ultralytics==8.0.120) (8.4.0)\n",
            "Requirement already satisfied: PyYAML>=5.3.1 in /usr/local/lib/python3.10/dist-packages (from ultralytics==8.0.120) (6.0)\n",
            "Requirement already satisfied: requests>=2.23.0 in /usr/local/lib/python3.10/dist-packages (from ultralytics==8.0.120) (2.27.1)\n",
            "Requirement already satisfied: scipy>=1.4.1 in /usr/local/lib/python3.10/dist-packages (from ultralytics==8.0.120) (1.10.1)\n",
            "Requirement already satisfied: torch>=1.7.0 in /usr/local/lib/python3.10/dist-packages (from ultralytics==8.0.120) (2.0.1+cu118)\n",
            "Requirement already satisfied: torchvision>=0.8.1 in /usr/local/lib/python3.10/dist-packages (from ultralytics==8.0.120) (0.15.2+cu118)\n",
            "Requirement already satisfied: tqdm>=4.64.0 in /usr/local/lib/python3.10/dist-packages (from ultralytics==8.0.120) (4.65.0)\n",
            "Requirement already satisfied: pandas>=1.1.4 in /usr/local/lib/python3.10/dist-packages (from ultralytics==8.0.120) (1.5.3)\n",
            "Requirement already satisfied: seaborn>=0.11.0 in /usr/local/lib/python3.10/dist-packages (from ultralytics==8.0.120) (0.12.2)\n",
            "Requirement already satisfied: psutil in /usr/local/lib/python3.10/dist-packages (from ultralytics==8.0.120) (5.9.5)\n",
            "Collecting check-manifest (from ultralytics==8.0.120)\n",
            "  Downloading check_manifest-0.49-py3-none-any.whl (20 kB)\n",
            "Requirement already satisfied: pytest in /usr/local/lib/python3.10/dist-packages (from ultralytics==8.0.120) (7.2.2)\n",
            "Collecting pytest-cov (from ultralytics==8.0.120)\n",
            "  Downloading pytest_cov-4.1.0-py3-none-any.whl (21 kB)\n",
            "Collecting coverage (from ultralytics==8.0.120)\n",
            "  Downloading coverage-7.2.7-cp310-cp310-manylinux_2_5_x86_64.manylinux1_x86_64.manylinux_2_17_x86_64.manylinux2014_x86_64.whl (228 kB)\n",
            "\u001b[2K     \u001b[90m━━━━━━━━━━━━━━━━━━━━━━━━━━━━━━━━━━━━━━━\u001b[0m \u001b[32m228.7/228.7 kB\u001b[0m \u001b[31m7.6 MB/s\u001b[0m eta \u001b[36m0:00:00\u001b[0m\n",
            "\u001b[?25hCollecting mkdocs-material (from ultralytics==8.0.120)\n",
            "  Downloading mkdocs_material-9.1.16-py3-none-any.whl (7.8 MB)\n",
            "\u001b[2K     \u001b[90m━━━━━━━━━━━━━━━━━━━━━━━━━━━━━━━━━━━━━━━━\u001b[0m \u001b[32m7.8/7.8 MB\u001b[0m \u001b[31m79.0 MB/s\u001b[0m eta \u001b[36m0:00:00\u001b[0m\n",
            "\u001b[?25hCollecting mkdocstrings[python] (from ultralytics==8.0.120)\n",
            "  Downloading mkdocstrings-0.22.0-py3-none-any.whl (26 kB)\n",
            "Collecting mkdocs-redirects (from ultralytics==8.0.120)\n",
            "  Downloading mkdocs-redirects-1.2.0.tar.gz (5.7 kB)\n",
            "  Preparing metadata (setup.py) ... \u001b[?25l\u001b[?25hdone\n",
            "Collecting mkdocs-ultralytics-plugin (from ultralytics==8.0.120)\n",
            "  Downloading mkdocs_ultralytics_plugin-0.0.21-py3-none-any.whl (17 kB)\n",
            "Requirement already satisfied: contourpy>=1.0.1 in /usr/local/lib/python3.10/dist-packages (from matplotlib>=3.2.2->ultralytics==8.0.120) (1.0.7)\n",
            "Requirement already satisfied: cycler>=0.10 in /usr/local/lib/python3.10/dist-packages (from matplotlib>=3.2.2->ultralytics==8.0.120) (0.11.0)\n",
            "Requirement already satisfied: fonttools>=4.22.0 in /usr/local/lib/python3.10/dist-packages (from matplotlib>=3.2.2->ultralytics==8.0.120) (4.39.3)\n",
            "Requirement already satisfied: kiwisolver>=1.0.1 in /usr/local/lib/python3.10/dist-packages (from matplotlib>=3.2.2->ultralytics==8.0.120) (1.4.4)\n",
            "Requirement already satisfied: numpy>=1.20 in /usr/local/lib/python3.10/dist-packages (from matplotlib>=3.2.2->ultralytics==8.0.120) (1.22.4)\n",
            "Requirement already satisfied: packaging>=20.0 in /usr/local/lib/python3.10/dist-packages (from matplotlib>=3.2.2->ultralytics==8.0.120) (23.1)\n",
            "Requirement already satisfied: pyparsing>=2.3.1 in /usr/local/lib/python3.10/dist-packages (from matplotlib>=3.2.2->ultralytics==8.0.120) (3.0.9)\n",
            "Requirement already satisfied: python-dateutil>=2.7 in /usr/local/lib/python3.10/dist-packages (from matplotlib>=3.2.2->ultralytics==8.0.120) (2.8.2)\n",
            "Requirement already satisfied: pytz>=2020.1 in /usr/local/lib/python3.10/dist-packages (from pandas>=1.1.4->ultralytics==8.0.120) (2022.7.1)\n",
            "Requirement already satisfied: urllib3<1.27,>=1.21.1 in /usr/local/lib/python3.10/dist-packages (from requests>=2.23.0->ultralytics==8.0.120) (1.26.15)\n",
            "Requirement already satisfied: certifi>=2017.4.17 in /usr/local/lib/python3.10/dist-packages (from requests>=2.23.0->ultralytics==8.0.120) (2022.12.7)\n",
            "Requirement already satisfied: charset-normalizer~=2.0.0 in /usr/local/lib/python3.10/dist-packages (from requests>=2.23.0->ultralytics==8.0.120) (2.0.12)\n",
            "Requirement already satisfied: idna<4,>=2.5 in /usr/local/lib/python3.10/dist-packages (from requests>=2.23.0->ultralytics==8.0.120) (3.4)\n",
            "Requirement already satisfied: filelock in /usr/local/lib/python3.10/dist-packages (from torch>=1.7.0->ultralytics==8.0.120) (3.12.0)\n",
            "Requirement already satisfied: typing-extensions in /usr/local/lib/python3.10/dist-packages (from torch>=1.7.0->ultralytics==8.0.120) (4.5.0)\n",
            "Requirement already satisfied: sympy in /usr/local/lib/python3.10/dist-packages (from torch>=1.7.0->ultralytics==8.0.120) (1.11.1)\n",
            "Requirement already satisfied: networkx in /usr/local/lib/python3.10/dist-packages (from torch>=1.7.0->ultralytics==8.0.120) (3.1)\n",
            "Requirement already satisfied: jinja2 in /usr/local/lib/python3.10/dist-packages (from torch>=1.7.0->ultralytics==8.0.120) (3.1.2)\n",
            "Requirement already satisfied: triton==2.0.0 in /usr/local/lib/python3.10/dist-packages (from torch>=1.7.0->ultralytics==8.0.120) (2.0.0)\n",
            "Requirement already satisfied: cmake in /usr/local/lib/python3.10/dist-packages (from triton==2.0.0->torch>=1.7.0->ultralytics==8.0.120) (3.25.2)\n",
            "Requirement already satisfied: lit in /usr/local/lib/python3.10/dist-packages (from triton==2.0.0->torch>=1.7.0->ultralytics==8.0.120) (16.0.5)\n",
            "Requirement already satisfied: build>=0.1 in /usr/local/lib/python3.10/dist-packages (from check-manifest->ultralytics==8.0.120) (0.10.0)\n",
            "Requirement already satisfied: setuptools in /usr/local/lib/python3.10/dist-packages (from check-manifest->ultralytics==8.0.120) (67.7.2)\n",
            "Requirement already satisfied: tomli in /usr/local/lib/python3.10/dist-packages (from check-manifest->ultralytics==8.0.120) (2.0.1)\n",
            "Collecting colorama>=0.4 (from mkdocs-material->ultralytics==8.0.120)\n",
            "  Downloading colorama-0.4.6-py2.py3-none-any.whl (25 kB)\n",
            "Requirement already satisfied: markdown>=3.2 in /usr/local/lib/python3.10/dist-packages (from mkdocs-material->ultralytics==8.0.120) (3.4.3)\n",
            "Collecting mkdocs-material-extensions>=1.1 (from mkdocs-material->ultralytics==8.0.120)\n",
            "  Downloading mkdocs_material_extensions-1.1.1-py3-none-any.whl (7.9 kB)\n",
            "Collecting mkdocs>=1.4.2 (from mkdocs-material->ultralytics==8.0.120)\n",
            "  Downloading mkdocs-1.4.3-py3-none-any.whl (3.7 MB)\n",
            "\u001b[2K     \u001b[90m━━━━━━━━━━━━━━━━━━━━━━━━━━━━━━━━━━━━━━━━\u001b[0m \u001b[32m3.7/3.7 MB\u001b[0m \u001b[31m84.7 MB/s\u001b[0m eta \u001b[36m0:00:00\u001b[0m\n",
            "\u001b[?25hRequirement already satisfied: pygments>=2.14 in /usr/local/lib/python3.10/dist-packages (from mkdocs-material->ultralytics==8.0.120) (2.14.0)\n",
            "Collecting pymdown-extensions>=9.9.1 (from mkdocs-material->ultralytics==8.0.120)\n",
            "  Downloading pymdown_extensions-10.0.1-py3-none-any.whl (240 kB)\n",
            "\u001b[2K     \u001b[90m━━━━━━━━━━━━━━━━━━━━━━━━━━━━━━━━━━━━━━\u001b[0m \u001b[32m240.1/240.1 kB\u001b[0m \u001b[31m29.8 MB/s\u001b[0m eta \u001b[36m0:00:00\u001b[0m\n",
            "\u001b[?25hRequirement already satisfied: regex>=2022.4.24 in /usr/local/lib/python3.10/dist-packages (from mkdocs-material->ultralytics==8.0.120) (2022.10.31)\n",
            "Requirement already satisfied: beautifulsoup4>=4.9.3 in /usr/local/lib/python3.10/dist-packages (from mkdocs-ultralytics-plugin->ultralytics==8.0.120) (4.11.2)\n",
            "Requirement already satisfied: MarkupSafe>=1.1 in /usr/local/lib/python3.10/dist-packages (from mkdocstrings[python]->ultralytics==8.0.120) (2.1.2)\n",
            "Collecting mkdocs-autorefs>=0.3.1 (from mkdocstrings[python]->ultralytics==8.0.120)\n",
            "  Downloading mkdocs_autorefs-0.4.1-py3-none-any.whl (9.8 kB)\n",
            "Collecting mkdocstrings-python>=0.5.2 (from mkdocstrings[python]->ultralytics==8.0.120)\n",
            "  Downloading mkdocstrings_python-1.1.2-py3-none-any.whl (40 kB)\n",
            "\u001b[2K     \u001b[90m━━━━━━━━━━━━━━━━━━━━━━━━━━━━━━━━━━━━━━━━\u001b[0m \u001b[32m40.4/40.4 kB\u001b[0m \u001b[31m5.1 MB/s\u001b[0m eta \u001b[36m0:00:00\u001b[0m\n",
            "\u001b[?25hRequirement already satisfied: attrs>=19.2.0 in /usr/local/lib/python3.10/dist-packages (from pytest->ultralytics==8.0.120) (23.1.0)\n",
            "Requirement already satisfied: iniconfig in /usr/local/lib/python3.10/dist-packages (from pytest->ultralytics==8.0.120) (2.0.0)\n",
            "Requirement already satisfied: pluggy<2.0,>=0.12 in /usr/local/lib/python3.10/dist-packages (from pytest->ultralytics==8.0.120) (1.0.0)\n",
            "Requirement already satisfied: exceptiongroup>=1.0.0rc8 in /usr/local/lib/python3.10/dist-packages (from pytest->ultralytics==8.0.120) (1.1.1)\n",
            "Requirement already satisfied: soupsieve>1.2 in /usr/local/lib/python3.10/dist-packages (from beautifulsoup4>=4.9.3->mkdocs-ultralytics-plugin->ultralytics==8.0.120) (2.4.1)\n",
            "Requirement already satisfied: pyproject_hooks in /usr/local/lib/python3.10/dist-packages (from build>=0.1->check-manifest->ultralytics==8.0.120) (1.0.0)\n",
            "Requirement already satisfied: click>=7.0 in /usr/local/lib/python3.10/dist-packages (from mkdocs>=1.4.2->mkdocs-material->ultralytics==8.0.120) (8.1.3)\n",
            "Collecting ghp-import>=1.0 (from mkdocs>=1.4.2->mkdocs-material->ultralytics==8.0.120)\n",
            "  Downloading ghp_import-2.1.0-py3-none-any.whl (11 kB)\n",
            "Collecting markdown>=3.2 (from mkdocs-material->ultralytics==8.0.120)\n",
            "  Downloading Markdown-3.3.7-py3-none-any.whl (97 kB)\n",
            "\u001b[2K     \u001b[90m━━━━━━━━━━━━━━━━━━━━━━━━━━━━━━━━━━━━━━━━\u001b[0m \u001b[32m97.8/97.8 kB\u001b[0m \u001b[31m14.3 MB/s\u001b[0m eta \u001b[36m0:00:00\u001b[0m\n",
            "\u001b[?25hCollecting mergedeep>=1.3.4 (from mkdocs>=1.4.2->mkdocs-material->ultralytics==8.0.120)\n",
            "  Downloading mergedeep-1.3.4-py3-none-any.whl (6.4 kB)\n",
            "Collecting pyyaml-env-tag>=0.1 (from mkdocs>=1.4.2->mkdocs-material->ultralytics==8.0.120)\n",
            "  Downloading pyyaml_env_tag-0.1-py3-none-any.whl (3.9 kB)\n",
            "Collecting watchdog>=2.0 (from mkdocs>=1.4.2->mkdocs-material->ultralytics==8.0.120)\n",
            "  Downloading watchdog-3.0.0-py3-none-manylinux2014_x86_64.whl (82 kB)\n",
            "\u001b[2K     \u001b[90m━━━━━━━━━━━━━━━━━━━━━━━━━━━━━━━━━━━━━━━━\u001b[0m \u001b[32m82.1/82.1 kB\u001b[0m \u001b[31m9.8 MB/s\u001b[0m eta \u001b[36m0:00:00\u001b[0m\n",
            "\u001b[?25hCollecting griffe>=0.24 (from mkdocstrings-python>=0.5.2->mkdocstrings[python]->ultralytics==8.0.120)\n",
            "  Downloading griffe-0.29.1-py3-none-any.whl (93 kB)\n",
            "\u001b[2K     \u001b[90m━━━━━━━━━━━━━━━━━━━━━━━━━━━━━━━━━━━━━━━━\u001b[0m \u001b[32m93.5/93.5 kB\u001b[0m \u001b[31m11.9 MB/s\u001b[0m eta \u001b[36m0:00:00\u001b[0m\n",
            "\u001b[?25hRequirement already satisfied: six>=1.5 in /usr/local/lib/python3.10/dist-packages (from python-dateutil>=2.7->matplotlib>=3.2.2->ultralytics==8.0.120) (1.16.0)\n",
            "Requirement already satisfied: mpmath>=0.19 in /usr/local/lib/python3.10/dist-packages (from sympy->torch>=1.7.0->ultralytics==8.0.120) (1.3.0)\n",
            "Building wheels for collected packages: mkdocs-redirects\n",
            "  Building wheel for mkdocs-redirects (setup.py) ... \u001b[?25l\u001b[?25hdone\n",
            "  Created wheel for mkdocs-redirects: filename=mkdocs_redirects-1.2.0-py3-none-any.whl size=6051 sha256=c608f648e481c0b5debd13a2db962128cbff60ecf0e988b3f0af2f4fd3be88aa\n",
            "  Stored in directory: /root/.cache/pip/wheels/86/8a/9b/697783d3d7f110112e889cfc01e3b1c2e41c3afef67f6e562d\n",
            "Successfully built mkdocs-redirects\n",
            "Installing collected packages: watchdog, pyyaml-env-tag, mkdocs-material-extensions, mergedeep, markdown, coverage, colorama, pymdown-extensions, griffe, ghp-import, pytest-cov, mkdocs, check-manifest, mkdocs-ultralytics-plugin, mkdocs-redirects, mkdocs-material, mkdocs-autorefs, mkdocstrings, mkdocstrings-python, ultralytics\n",
            "  Attempting uninstall: markdown\n",
            "    Found existing installation: Markdown 3.4.3\n",
            "    Uninstalling Markdown-3.4.3:\n",
            "      Successfully uninstalled Markdown-3.4.3\n",
            "  Running setup.py develop for ultralytics\n",
            "Successfully installed check-manifest-0.49 colorama-0.4.6 coverage-7.2.7 ghp-import-2.1.0 griffe-0.29.1 markdown-3.3.7 mergedeep-1.3.4 mkdocs-1.4.3 mkdocs-autorefs-0.4.1 mkdocs-material-9.1.16 mkdocs-material-extensions-1.1.1 mkdocs-redirects-1.2.0 mkdocs-ultralytics-plugin-0.0.21 mkdocstrings-0.22.0 mkdocstrings-python-1.1.2 pymdown-extensions-10.0.1 pytest-cov-4.1.0 pyyaml-env-tag-0.1 ultralytics-8.0.120 watchdog-3.0.0\n"
          ]
        }
      ]
    },
    {
      "cell_type": "code",
      "source": [
        "from ultralytics import YOLO\n",
        "model = YOLO(\"/content/ultralytics/runs/detect/train/weights/best.pt\") # last.pt\n",
        "model.train(data=\"/content/Majasaurus/aligned/dataset_aligned.yaml\", epochs=100, batch=16, workers=4, degrees=180.0, patience=2)"
      ],
      "metadata": {
        "id": "EyMhgXspJoFu",
        "colab": {
          "base_uri": "https://localhost:8080/"
        },
        "outputId": "22b033d5-dff8-4946-e2f9-f4131e978990"
      },
      "execution_count": 8,
      "outputs": [
        {
          "output_type": "stream",
          "name": "stderr",
          "text": [
            "Ultralytics YOLOv8.0.120 🚀 Python-3.10.12 torch-2.0.1+cu118 CUDA:0 (Tesla T4, 15102MiB)\n",
            "\u001b[34m\u001b[1myolo/engine/trainer: \u001b[0mtask=detect, mode=train, model=/content/ultralytics/runs/detect/train/weights/best.pt, data=/content/Majasaurus/aligned/dataset_aligned.yaml, epochs=100, patience=2, batch=16, imgsz=640, save=True, save_period=-1, cache=False, device=None, workers=4, project=None, name=None, exist_ok=False, pretrained=True, optimizer=auto, verbose=True, seed=0, deterministic=True, single_cls=False, rect=False, cos_lr=False, close_mosaic=0, resume=False, amp=True, fraction=1.0, profile=False, overlap_mask=True, mask_ratio=4, dropout=0.0, val=True, split=val, save_json=False, save_hybrid=False, conf=None, iou=0.7, max_det=300, half=False, dnn=False, plots=True, source=None, show=False, save_txt=False, save_conf=False, save_crop=False, show_labels=True, show_conf=True, vid_stride=1, line_width=None, visualize=False, augment=False, agnostic_nms=False, classes=None, retina_masks=False, boxes=True, format=torchscript, keras=False, optimize=False, int8=False, dynamic=False, simplify=False, opset=None, workspace=4, nms=False, lr0=0.01, lrf=0.01, momentum=0.937, weight_decay=0.0005, warmup_epochs=3.0, warmup_momentum=0.8, warmup_bias_lr=0.1, box=7.5, cls=0.5, dfl=1.5, pose=12.0, kobj=1.0, label_smoothing=0.0, nbs=64, hsv_h=0.015, hsv_s=0.7, hsv_v=0.4, degrees=180.0, translate=0.1, scale=0.5, shear=0.0, perspective=0.0, flipud=0.0, fliplr=0.5, mosaic=1.0, mixup=0.0, copy_paste=0.0, cfg=None, v5loader=False, tracker=botsort.yaml, save_dir=/content/ultralytics/runs/detect/train2\n",
            "\n",
            "                   from  n    params  module                                       arguments                     \n",
            "  0                  -1  1      1856  ultralytics.nn.modules.conv.Conv             [3, 64, 3, 2]                 \n",
            "  1                  -1  1     73984  ultralytics.nn.modules.conv.Conv             [64, 128, 3, 2]               \n",
            "  2                  -1  3    279808  ultralytics.nn.modules.block.C2f             [128, 128, 3, True]           \n",
            "  3                  -1  1    295424  ultralytics.nn.modules.conv.Conv             [128, 256, 3, 2]              \n",
            "  4                  -1  6   2101248  ultralytics.nn.modules.block.C2f             [256, 256, 6, True]           \n",
            "  5                  -1  1   1180672  ultralytics.nn.modules.conv.Conv             [256, 512, 3, 2]              \n",
            "  6                  -1  6   8396800  ultralytics.nn.modules.block.C2f             [512, 512, 6, True]           \n",
            "  7                  -1  1   2360320  ultralytics.nn.modules.conv.Conv             [512, 512, 3, 2]              \n",
            "  8                  -1  3   4461568  ultralytics.nn.modules.block.C2f             [512, 512, 3, True]           \n",
            "  9                  -1  1    656896  ultralytics.nn.modules.block.SPPF            [512, 512, 5]                 \n",
            " 10                  -1  1         0  torch.nn.modules.upsampling.Upsample         [None, 2, 'nearest']          \n",
            " 11             [-1, 6]  1         0  ultralytics.nn.modules.conv.Concat           [1]                           \n",
            " 12                  -1  3   4723712  ultralytics.nn.modules.block.C2f             [1024, 512, 3]                \n",
            " 13                  -1  1         0  torch.nn.modules.upsampling.Upsample         [None, 2, 'nearest']          \n",
            " 14             [-1, 4]  1         0  ultralytics.nn.modules.conv.Concat           [1]                           \n",
            " 15                  -1  3   1247744  ultralytics.nn.modules.block.C2f             [768, 256, 3]                 \n",
            " 16                  -1  1    590336  ultralytics.nn.modules.conv.Conv             [256, 256, 3, 2]              \n",
            " 17            [-1, 12]  1         0  ultralytics.nn.modules.conv.Concat           [1]                           \n",
            " 18                  -1  3   4592640  ultralytics.nn.modules.block.C2f             [768, 512, 3]                 \n",
            " 19                  -1  1   2360320  ultralytics.nn.modules.conv.Conv             [512, 512, 3, 2]              \n",
            " 20             [-1, 9]  1         0  ultralytics.nn.modules.conv.Concat           [1]                           \n",
            " 21                  -1  3   4723712  ultralytics.nn.modules.block.C2f             [1024, 512, 3]                \n",
            " 22        [15, 18, 21]  1   5609785  ultralytics.nn.modules.head.Detect           [35, [256, 512, 512]]         \n",
            "Model summary: 365 layers, 43656825 parameters, 43656809 gradients\n",
            "\n",
            "Transferred 595/595 items from pretrained weights\n",
            "\u001b[34m\u001b[1mTensorBoard: \u001b[0mStart with 'tensorboard --logdir /content/ultralytics/runs/detect/train2', view at http://localhost:6006/\n",
            "\u001b[34m\u001b[1mAMP: \u001b[0mrunning Automatic Mixed Precision (AMP) checks with YOLOv8n...\n",
            "\u001b[34m\u001b[1mAMP: \u001b[0mchecks passed ✅\n",
            "\u001b[34m\u001b[1mtrain: \u001b[0mScanning /content/Majasaurus/aligned/labels/train.cache... 200 images, 0 backgrounds, 0 corrupt: 100%|██████████| 200/200 [00:00<?, ?it/s]\n",
            "\u001b[34m\u001b[1mtrain: \u001b[0mWARNING ⚠️ /content/Majasaurus/aligned/images/train/IMG_1751.JPG: corrupt JPEG restored and saved\n",
            "\u001b[34m\u001b[1malbumentations: \u001b[0mBlur(p=0.01, blur_limit=(3, 7)), MedianBlur(p=0.01, blur_limit=(3, 7)), ToGray(p=0.01), CLAHE(p=0.01, clip_limit=(1, 4.0), tile_grid_size=(8, 8))\n",
            "\u001b[34m\u001b[1mval: \u001b[0mScanning /content/Majasaurus/aligned/labels/val.cache... 63 images, 0 backgrounds, 0 corrupt: 100%|██████████| 63/63 [00:00<?, ?it/s]\n",
            "Plotting labels to /content/ultralytics/runs/detect/train2/labels.jpg... \n",
            "\u001b[34m\u001b[1moptimizer:\u001b[0m AdamW(lr=0.000256, momentum=0.9) with parameter groups 97 weight(decay=0.0), 104 weight(decay=0.0005), 103 bias(decay=0.0)\n",
            "Image sizes 640 train, 640 val\n",
            "Using 2 dataloader workers\n",
            "Logging results to \u001b[1m/content/ultralytics/runs/detect/train2\u001b[0m\n",
            "Starting training for 100 epochs...\n",
            "\n",
            "      Epoch    GPU_mem   box_loss   cls_loss   dfl_loss  Instances       Size\n",
            "      1/100      10.8G     0.5694     0.3702     0.8929        253        640: 100%|██████████| 13/13 [00:27<00:00,  2.14s/it]\n",
            "                 Class     Images  Instances      Box(P          R      mAP50  mAP50-95): 100%|██████████| 2/2 [00:02<00:00,  1.09s/it]\n",
            "                   all         63        924       0.99      0.996      0.994      0.883\n",
            "\n",
            "      Epoch    GPU_mem   box_loss   cls_loss   dfl_loss  Instances       Size\n",
            "      2/100        11G     0.5311     0.3345     0.8735        225        640: 100%|██████████| 13/13 [00:14<00:00,  1.11s/it]\n",
            "                 Class     Images  Instances      Box(P          R      mAP50  mAP50-95): 100%|██████████| 2/2 [00:02<00:00,  1.48s/it]\n",
            "                   all         63        924      0.992      0.997      0.994      0.869\n",
            "\n",
            "      Epoch    GPU_mem   box_loss   cls_loss   dfl_loss  Instances       Size\n",
            "      3/100      11.1G     0.5218     0.3208     0.8732        184        640: 100%|██████████| 13/13 [00:13<00:00,  1.06s/it]\n",
            "                 Class     Images  Instances      Box(P          R      mAP50  mAP50-95): 100%|██████████| 2/2 [00:06<00:00,  3.05s/it]\n",
            "                   all         63        924      0.991      0.997      0.993      0.869\n",
            "Stopping training early as no improvement observed in last 2 epochs. Best results observed at epoch 1, best model saved as best.pt.\n",
            "To update EarlyStopping(patience=2) pass a new patience value, i.e. `patience=300` or use `patience=0` to disable EarlyStopping.\n",
            "\n",
            "3 epochs completed in 0.036 hours.\n",
            "Optimizer stripped from /content/ultralytics/runs/detect/train2/weights/last.pt, 87.7MB\n",
            "Optimizer stripped from /content/ultralytics/runs/detect/train2/weights/best.pt, 87.7MB\n",
            "\n",
            "Validating /content/ultralytics/runs/detect/train2/weights/best.pt...\n",
            "Ultralytics YOLOv8.0.120 🚀 Python-3.10.12 torch-2.0.1+cu118 CUDA:0 (Tesla T4, 15102MiB)\n",
            "Model summary (fused): 268 layers, 43633593 parameters, 0 gradients\n",
            "                 Class     Images  Instances      Box(P          R      mAP50  mAP50-95): 100%|██████████| 2/2 [00:03<00:00,  1.99s/it]\n",
            "                   all         63        924       0.99      0.996      0.994      0.883\n",
            "                    1s         63         29      0.994          1      0.995       0.88\n",
            "                    2s         63         51      0.998       0.98      0.986      0.869\n",
            "                    3s         63         41      0.995          1      0.995       0.89\n",
            "                    4s         63         49      0.997          1      0.995      0.856\n",
            "                    5s         63         55          1      0.994      0.995       0.87\n",
            "                    6s         63         48      0.998          1      0.995       0.89\n",
            "                    7s         63         49          1      0.995      0.995      0.877\n",
            "                    8s         63         43      0.997      0.977      0.989      0.866\n",
            "                    9s         63         48      0.979      0.972      0.991      0.852\n",
            "                    1m         63         30      0.994          1      0.995      0.889\n",
            "                    2m         63         30      0.993      0.967      0.994      0.895\n",
            "                    3m         63         26      0.963          1      0.995        0.9\n",
            "                    4m         63         26      0.995          1      0.995      0.899\n",
            "                    5m         63         27      0.993          1      0.995       0.88\n",
            "                    6m         63         30      0.997          1      0.995      0.891\n",
            "                    7m         63         23      0.993          1      0.995      0.905\n",
            "                    8m         63         21      0.989          1      0.995      0.878\n",
            "                    9m         63         32      0.996          1      0.995      0.882\n",
            "                    1p         63         17       0.99          1      0.995      0.895\n",
            "                    2p         63         10      0.984          1      0.995      0.898\n",
            "                    3p         63         10      0.978          1      0.995      0.858\n",
            "                    4p         63          9      0.981          1      0.995      0.863\n",
            "                    5p         63         13      0.985          1      0.995      0.871\n",
            "                    6p         63         17      0.997          1      0.995      0.837\n",
            "                    7p         63         14      0.971          1      0.995      0.867\n",
            "                    8p         63         13      0.989          1      0.995      0.878\n",
            "                    9p         63         13      0.996          1      0.995      0.867\n",
            "                  east         63         10      0.981          1      0.995      0.872\n",
            "                 south         63         12      0.991          1      0.995      0.927\n",
            "                  west         63         19       0.99          1      0.995      0.922\n",
            "                 north         63         13      0.986          1      0.995      0.924\n",
            "                 white         63         22          1      0.968      0.995      0.936\n",
            "                 green         63         12       0.99          1      0.995      0.891\n",
            "                   red         63         15       0.99          1      0.995      0.918\n",
            "                  back         63         47      0.977          1      0.982      0.827\n",
            "Speed: 4.2ms preprocess, 15.5ms inference, 0.0ms loss, 2.7ms postprocess per image\n",
            "Results saved to \u001b[1m/content/ultralytics/runs/detect/train2\u001b[0m\n"
          ]
        }
      ]
    },
    {
      "cell_type": "code",
      "source": [
        "# Validate the model\n",
        "model = YOLO(\"/content/ultralytics/runs/detect/train2/weights/best.pt\")\n",
        "metrics = model.val()  # no arguments needed, dataset and settings remembered\n",
        "metrics.box.map    # map50-95\n",
        "metrics.box.map50  # map50\n",
        "metrics.box.map75  # map75\n",
        "metrics.box.maps   # a list contains map50-95 of each category"
      ],
      "metadata": {
        "colab": {
          "base_uri": "https://localhost:8080/"
        },
        "id": "qJlAoS69Ev6p",
        "outputId": "b2aa19b8-ca11-49f6-c9db-e06664ac47c7"
      },
      "execution_count": 9,
      "outputs": [
        {
          "output_type": "stream",
          "name": "stderr",
          "text": [
            "Ultralytics YOLOv8.0.120 🚀 Python-3.10.12 torch-2.0.1+cu118 CUDA:0 (Tesla T4, 15102MiB)\n",
            "Model summary (fused): 268 layers, 43633593 parameters, 0 gradients\n",
            "\u001b[34m\u001b[1mval: \u001b[0mScanning /content/Majasaurus/aligned/labels/val.cache... 63 images, 0 backgrounds, 0 corrupt: 100%|██████████| 63/63 [00:00<?, ?it/s]\n",
            "                 Class     Images  Instances      Box(P          R      mAP50  mAP50-95): 100%|██████████| 4/4 [00:19<00:00,  4.78s/it]\n",
            "                   all         63        924       0.99      0.995      0.994      0.883\n",
            "                    1s         63         29      0.994          1      0.995      0.875\n",
            "                    2s         63         51      0.998       0.98      0.986      0.871\n",
            "                    3s         63         41      0.995          1      0.995      0.885\n",
            "                    4s         63         49      0.997          1      0.995      0.865\n",
            "                    5s         63         55          1      0.994      0.995       0.87\n",
            "                    6s         63         48      0.998          1      0.995       0.88\n",
            "                    7s         63         49          1      0.995      0.995      0.873\n",
            "                    8s         63         43      0.996      0.977      0.989       0.88\n",
            "                    9s         63         48      0.979      0.953      0.992      0.851\n",
            "                    1m         63         30      0.993          1      0.995      0.884\n",
            "                    2m         63         30      0.993      0.967      0.994       0.89\n",
            "                    3m         63         26      0.962          1      0.995      0.894\n",
            "                    4m         63         26      0.995          1      0.995      0.899\n",
            "                    5m         63         27      0.993          1      0.995      0.882\n",
            "                    6m         63         30      0.997          1      0.995      0.886\n",
            "                    7m         63         23      0.993          1      0.995      0.908\n",
            "                    8m         63         21      0.989          1      0.995      0.878\n",
            "                    9m         63         32      0.996          1      0.995      0.871\n",
            "                    1p         63         17       0.99          1      0.995      0.895\n",
            "                    2p         63         10      0.984          1      0.995      0.894\n",
            "                    3p         63         10      0.977          1      0.995      0.858\n",
            "                    4p         63          9       0.98          1      0.995       0.87\n",
            "                    5p         63         13      0.984          1      0.995      0.875\n",
            "                    6p         63         17      0.997          1      0.995      0.829\n",
            "                    7p         63         14      0.971          1      0.995      0.873\n",
            "                    8p         63         13      0.988          1      0.995      0.891\n",
            "                    9p         63         13      0.996          1      0.995      0.868\n",
            "                  east         63         10      0.981          1      0.995      0.892\n",
            "                 south         63         12      0.991          1      0.995      0.927\n",
            "                  west         63         19       0.99          1      0.995      0.919\n",
            "                 north         63         13      0.986          1      0.995      0.924\n",
            "                 white         63         22          1      0.968      0.995      0.929\n",
            "                 green         63         12       0.99          1      0.995      0.891\n",
            "                   red         63         15       0.99          1      0.995      0.914\n",
            "                  back         63         47      0.977          1      0.982      0.823\n",
            "Speed: 4.8ms preprocess, 49.2ms inference, 0.0ms loss, 14.0ms postprocess per image\n",
            "Results saved to \u001b[1m/content/ultralytics/runs/detect/val\u001b[0m\n"
          ]
        },
        {
          "output_type": "execute_result",
          "data": {
            "text/plain": [
              "array([     0.8745,     0.87109,     0.88509,     0.86519,      0.8704,     0.88043,     0.87337,     0.88012,     0.85133,     0.88418,     0.89007,     0.89401,     0.89945,     0.88199,     0.88593,     0.90785,     0.87837,     0.87089,     0.89528,     0.89436,     0.85761,     0.87009,     0.87523,     0.82908,\n",
              "             0.873,     0.89126,     0.86848,     0.89228,     0.92688,     0.91937,     0.92442,     0.92891,     0.89144,      0.9143,     0.82252])"
            ]
          },
          "metadata": {},
          "execution_count": 9
        }
      ]
    },
    {
      "cell_type": "code",
      "source": [
        "from ultralytics import YOLO\n",
        "model = YOLO(\"/content/drive/MyDrive/Majasaurus/results/0616-1051/weights/last.pt\") #重みのファイルへのパス\n",
        "results = model(\"/content/Majasaurus/aligned/images/val/*.JPG\",save=True ,conf=0.5, iou=0.5, save_txt=True)"
      ],
      "metadata": {
        "id": "3TkOTVTzmlbw",
        "colab": {
          "base_uri": "https://localhost:8080/"
        },
        "outputId": "00b37c65-1936-4333-f12d-998250748d06"
      },
      "execution_count": 7,
      "outputs": [
        {
          "output_type": "stream",
          "name": "stderr",
          "text": [
            "\n",
            "image 1/63 /content/Majasaurus/aligned/images/val/IMG_1840.JPG: 480x640 2 1ss, 2 2ss, 1 3s, 2 4ss, 2 5ss, 1 6s, 1 7s, 1 8s, 2 9ss, 75.5ms\n",
            "image 2/63 /content/Majasaurus/aligned/images/val/IMG_1841.JPG: 480x640 2 1ss, 2 2ss, 1 3s, 2 4ss, 2 5ss, 1 6s, 1 7s, 1 8s, 2 9ss, 51.5ms\n",
            "image 3/63 /content/Majasaurus/aligned/images/val/IMG_1842.JPG: 640x480 2 1ss, 2 2ss, 1 3s, 2 4ss, 2 5ss, 1 6s, 1 7s, 1 8s, 2 9ss, 65.3ms\n",
            "image 4/63 /content/Majasaurus/aligned/images/val/IMG_1843.JPG: 640x480 2 1ss, 2 2ss, 1 3s, 2 4ss, 2 5ss, 1 6s, 1 7s, 1 8s, 2 9ss, 47.3ms\n",
            "image 5/63 /content/Majasaurus/aligned/images/val/IMG_1844.JPG: 640x480 2 1ss, 2 2ss, 1 3s, 2 4ss, 2 5ss, 1 6s, 1 7s, 1 8s, 2 9ss, 47.0ms\n",
            "image 6/63 /content/Majasaurus/aligned/images/val/IMG_1845.JPG: 640x480 2 1ss, 2 2ss, 1 3s, 2 4ss, 2 5ss, 1 6s, 1 7s, 1 8s, 2 9ss, 47.1ms\n",
            "image 7/63 /content/Majasaurus/aligned/images/val/IMG_1846.JPG: 640x480 2 1ss, 2 2ss, 1 3s, 2 4ss, 2 5ss, 1 6s, 1 7s, 1 8s, 2 9ss, 47.0ms\n",
            "image 8/63 /content/Majasaurus/aligned/images/val/IMG_1847.JPG: 640x480 1 2s, 2 3ss, 2 4ss, 1 5s, 1 6s, 2 7ss, 2 8ss, 3 9ss, 47.0ms\n",
            "image 9/63 /content/Majasaurus/aligned/images/val/IMG_1848.JPG: 480x640 1 2s, 2 3ss, 2 4ss, 1 5s, 1 6s, 2 7ss, 2 8ss, 3 9ss, 52.3ms\n",
            "image 10/63 /content/Majasaurus/aligned/images/val/IMG_1849.JPG: 640x480 1 2s, 2 3ss, 2 4ss, 1 5s, 1 6s, 2 7ss, 3 8ss, 3 9ss, 48.0ms\n",
            "image 11/63 /content/Majasaurus/aligned/images/val/IMG_1850.JPG: 640x480 1 2s, 2 3ss, 2 4ss, 1 5s, 1 6s, 2 7ss, 2 8ss, 3 9ss, 47.0ms\n",
            "image 12/63 /content/Majasaurus/aligned/images/val/IMG_1851.JPG: 640x480 1 2s, 2 3ss, 2 4ss, 1 5s, 1 6s, 3 7ss, 2 8ss, 3 9ss, 46.9ms\n",
            "image 13/63 /content/Majasaurus/aligned/images/val/IMG_1852.JPG: 480x640 1 2s, 2 3ss, 2 4ss, 1 5s, 1 6s, 2 7ss, 2 8ss, 3 9ss, 52.1ms\n",
            "image 14/63 /content/Majasaurus/aligned/images/val/IMG_1853.JPG: 640x480 1 2s, 2 3ss, 2 4ss, 1 5s, 1 6s, 2 7ss, 2 8ss, 3 9ss, 47.9ms\n",
            "image 15/63 /content/Majasaurus/aligned/images/val/IMG_1854.JPG: 480x640 1 2s, 2 3ss, 2 4ss, 1 5s, 1 6s, 2 7ss, 2 8ss, 3 9ss, 52.2ms\n",
            "image 16/63 /content/Majasaurus/aligned/images/val/IMG_1855.JPG: 640x480 1 1s, 2 2ss, 1 3s, 1 4s, 3 5ss, 3 6ss, 2 7ss, 1 8s, 50.1ms\n",
            "image 17/63 /content/Majasaurus/aligned/images/val/IMG_1856.JPG: 640x480 1 1s, 2 2ss, 1 3s, 1 4s, 3 5ss, 3 6ss, 2 7ss, 1 8s, 47.0ms\n",
            "image 18/63 /content/Majasaurus/aligned/images/val/IMG_1857.JPG: 480x640 1 1s, 2 2ss, 1 3s, 1 4s, 3 5ss, 3 6ss, 2 7ss, 1 8s, 52.3ms\n",
            "image 19/63 /content/Majasaurus/aligned/images/val/IMG_1858.JPG: 640x480 1 1s, 2 2ss, 1 3s, 1 4s, 3 5ss, 3 6ss, 2 7ss, 1 8s, 47.8ms\n",
            "image 20/63 /content/Majasaurus/aligned/images/val/IMG_1859.JPG: 640x480 1 1s, 2 2ss, 1 3s, 1 4s, 3 5ss, 3 6ss, 2 7ss, 1 8s, 47.1ms\n",
            "image 21/63 /content/Majasaurus/aligned/images/val/IMG_1860.JPG: 480x640 1 1s, 2 2ss, 1 3s, 1 4s, 3 5ss, 3 6ss, 2 7ss, 1 8s, 52.9ms\n",
            "image 22/63 /content/Majasaurus/aligned/images/val/IMG_1861.JPG: 480x640 1 1s, 2 2ss, 1 3s, 1 4s, 3 5ss, 3 6ss, 2 7ss, 1 8s, 51.4ms\n",
            "image 23/63 /content/Majasaurus/aligned/images/val/IMG_1862.JPG: 640x480 1 1s, 2 2ss, 1 3s, 1 4s, 3 5ss, 3 6ss, 2 7ss, 1 8s, 48.2ms\n",
            "image 24/63 /content/Majasaurus/aligned/images/val/IMG_1865.JPG: 480x640 1 1m, 3 3ms, 1 4m, 3 5ms, 1 7m, 2 8ms, 3 9ms, 52.4ms\n",
            "image 25/63 /content/Majasaurus/aligned/images/val/IMG_1872.JPG: 640x480 1 1m, 3 3ms, 1 4m, 3 5ms, 1 7m, 2 8ms, 3 9ms, 48.2ms\n",
            "image 26/63 /content/Majasaurus/aligned/images/val/IMG_1873.JPG: 640x480 3 1ms, 4 2ms, 2 4ms, 1 5m, 3 6ms, 1 9m, 47.0ms\n",
            "image 27/63 /content/Majasaurus/aligned/images/val/IMG_1875.JPG: 480x640 3 1ms, 4 2ms, 2 4ms, 1 5m, 3 6ms, 1 9m, 52.8ms\n",
            "image 28/63 /content/Majasaurus/aligned/images/val/IMG_1881.JPG: 480x640 4 1ms, 2 2ms, 1 3m, 3 4ms, 1 5m, 2 7ms, 2 9ms, 51.4ms\n",
            "image 29/63 /content/Majasaurus/aligned/images/val/IMG_1885.JPG: 480x640 3 1ms, 2 2ms, 1 3m, 3 4ms, 1 5m, 2 7ms, 2 9ms, 51.8ms\n",
            "image 30/63 /content/Majasaurus/aligned/images/val/IMG_1889.JPG: 480x640 1 2m, 3 3ms, 2 5ms, 4 6ms, 1 7m, 3 8ms, 51.6ms\n",
            "image 31/63 /content/Majasaurus/aligned/images/val/IMG_1895.JPG: 640x480 1 2m, 3 3ms, 2 5ms, 4 6ms, 1 7m, 3 8ms, 48.3ms\n",
            "image 32/63 /content/Majasaurus/aligned/images/val/IMG_1897.JPG: 640x480 2 1ms, 3 2ms, 1 4m, 1 5m, 2 6ms, 2 7ms, 1 8m, 2 9ms, 47.1ms\n",
            "image 33/63 /content/Majasaurus/aligned/images/val/IMG_1905.JPG: 640x480 1 1m, 1 2m, 3 3ms, 2 4ms, 2 5ms, 1 6m, 1 7m, 1 8m, 2 9ms, 47.0ms\n",
            "image 34/63 /content/Majasaurus/aligned/images/val/IMG_1906.JPG: 480x640 1 2s, 2 4ss, 1 5s, 1 6s, 2 9ss, 1 1m, 1 2m, 1 3m, 1 5m, 1 6m, 1 7m, 1 9m, 52.8ms\n",
            "image 35/63 /content/Majasaurus/aligned/images/val/IMG_1907.JPG: 640x480 1 2s, 2 4ss, 1 5s, 1 6s, 2 9ss, 1 1m, 1 2m, 1 3m, 1 5m, 1 6m, 1 7m, 1 9m, 47.9ms\n",
            "image 36/63 /content/Majasaurus/aligned/images/val/IMG_1908.JPG: 480x640 2 1ss, 1 2s, 1 3s, 1 6s, 2 8ss, 1 9s, 1 1m, 1 2m, 2 4ms, 1 6m, 1 9m, 52.4ms\n",
            "image 37/63 /content/Majasaurus/aligned/images/val/IMG_1909.JPG: 640x480 2 1ss, 1 2s, 1 3s, 1 6s, 2 8ss, 1 9s, 1 1m, 1 2m, 2 4ms, 1 6m, 1 9m, 47.8ms\n",
            "image 38/63 /content/Majasaurus/aligned/images/val/IMG_1910.JPG: 480x640 1 2s, 1 3s, 1 5s, 2 7ss, 1 8s, 1 1m, 1 2m, 1 3m, 2 5ms, 1 6m, 2 8ms, 52.3ms\n",
            "image 39/63 /content/Majasaurus/aligned/images/val/IMG_1911.JPG: 640x480 1 2s, 1 3s, 1 5s, 2 7ss, 1 8s, 1 1m, 1 2m, 1 3m, 2 5ms, 1 6m, 2 8ms, 47.9ms\n",
            "image 40/63 /content/Majasaurus/aligned/images/val/IMG_1912.JPG: 480x640 1 2s, 1 3s, 1 4s, 1 6s, 1 9s, 1 1m, 2 3ms, 1 6m, 1 7m, 2 8ms, 2 9ms, 52.1ms\n",
            "image 41/63 /content/Majasaurus/aligned/images/val/IMG_1913.JPG: 640x480 1 2s, 1 3s, 1 4s, 1 6s, 1 9s, 1 1m, 2 3ms, 1 6m, 1 7m, 2 8ms, 2 9ms, 48.7ms\n",
            "image 42/63 /content/Majasaurus/aligned/images/val/IMG_1914.JPG: 480x640 1 1s, 1 3s, 1 4s, 2 5ss, 1 6s, 2 7ss, 1 8s, 1 2m, 2 4ms, 1 5m, 2 7ms, 52.4ms\n",
            "image 43/63 /content/Majasaurus/aligned/images/val/IMG_1915.JPG: 640x480 1 1s, 1 3s, 1 4s, 1 6s, 2 7ss, 1 8s, 1 2m, 2 4ms, 1 5m, 2 7ms, 47.9ms\n",
            "image 44/63 /content/Majasaurus/aligned/images/val/IMG_1919.JPG: 640x480 3 1ms, 1 2m, 1 3m, 1 4m, 1 5m, 1 6m, 1 7m, 1 8m, 4 9ms, 47.0ms\n",
            "image 45/63 /content/Majasaurus/aligned/images/val/IMG_1920.JPG: 480x640 3 1ps, 2 2ps, 3 5ps, 1 6p, 1 7p, 2 8ps, 2 9ps, 52.3ms\n",
            "image 46/63 /content/Majasaurus/aligned/images/val/IMG_1924.JPG: 640x480 3 1ps, 2 2ps, 2 5ps, 1 6p, 1 7p, 2 8ps, 2 9ps, 47.9ms\n",
            "image 47/63 /content/Majasaurus/aligned/images/val/IMG_1934.JPG: 640x480 2 1ps, 1 2p, 3 3ps, 1 4p, 1 5p, 3 8ps, 3 9ps, 47.0ms\n",
            "image 48/63 /content/Majasaurus/aligned/images/val/IMG_1936.JPG: 640x480 2 1ps, 1 2p, 1 3p, 2 4ps, 1 5p, 3 6ps, 2 7ps, 1 8p, 1 9p, 47.1ms\n",
            "image 49/63 /content/Majasaurus/aligned/images/val/IMG_1938.JPG: 640x480 2 1ps, 1 2p, 1 3p, 2 4ps, 1 5p, 3 6ps, 2 7ps, 1 8p, 1 9p, 47.0ms\n",
            "image 50/63 /content/Majasaurus/aligned/images/val/IMG_1947.JPG: 640x480 3 1ps, 1 2p, 1 3p, 1 4p, 1 5p, 3 6ps, 3 7ps, 2 9ps, 47.2ms\n",
            "image 51/63 /content/Majasaurus/aligned/images/val/IMG_1951.JPG: 640x480 1 1p, 2 2ps, 2 3ps, 1 4p, 3 5ps, 2 7ps, 2 8ps, 1 9p, 47.2ms\n",
            "image 52/63 /content/Majasaurus/aligned/images/val/IMG_1958.JPG: 640x480 1 east, 4 souths, 2 wests, 3 norths, 1 white, 3 greens, 47.4ms\n",
            "image 53/63 /content/Majasaurus/aligned/images/val/IMG_1962.JPG: 480x640 3 easts, 2 wests, 1 north, 3 whites, 1 green, 4 reds, 52.7ms\n",
            "image 54/63 /content/Majasaurus/aligned/images/val/IMG_1972.JPG: 480x640 1 east, 2 souths, 2 wests, 3 norths, 3 whites, 1 green, 2 reds, 51.9ms\n",
            "image 55/63 /content/Majasaurus/aligned/images/val/IMG_1974.JPG: 480x640 2 easts, 2 souths, 4 wests, 1 north, 2 whites, 2 greens, 1 red, 51.5ms\n",
            "image 56/63 /content/Majasaurus/aligned/images/val/IMG_1976.JPG: 480x640 2 easts, 2 souths, 4 wests, 1 north, 2 whites, 2 greens, 1 red, 56.3ms\n",
            "image 57/63 /content/Majasaurus/aligned/images/val/IMG_1986.JPG: 480x640 1 south, 2 wests, 3 norths, 2 whites, 2 greens, 4 reds, 51.5ms\n",
            "image 58/63 /content/Majasaurus/aligned/images/val/IMG_1991.JPG: 640x480 1 2s, 1 3s, 1 4s, 1 6s, 2 9ss, 1 2m, 1 3m, 1 7m, 1 4p, 1 6p, 1 7p, 1 west, 1 red, 48.0ms\n",
            "image 59/63 /content/Majasaurus/aligned/images/val/IMG_1994.JPG: 480x640 1 1s, 1 5s, 2 8ss, 1 4m, 1 6m, 1 7m, 1 9m, 2 6ps, 1 7p, 2 8ps, 1 north, 52.9ms\n",
            "image 60/63 /content/Majasaurus/aligned/images/val/IMG_1998.JPG: 640x480 2 3ss, 1 7s, 1 9s, 2 1ms, 1 2m, 1 5m, 2 6ms, 2 9ms, 1 1p, 2 3ps, 2 6ps, 2 7ps, 1 9p, 1 east, 1 south, 1 west, 1 red, 24 backs, 48.4ms\n",
            "image 61/63 /content/Majasaurus/aligned/images/val/IMG_2004.JPG: 640x480 3 2ss, 2 4ss, 1 7s, 1 8s, 1 4m, 1 6m, 1 9m, 1 4p, 2 7ps, 1 west, 1 green, 1 red, 16 backs, 47.1ms\n",
            "image 62/63 /content/Majasaurus/aligned/images/val/IMG_2017.JPG: 480x640 2 whites, 52.2ms\n",
            "image 63/63 /content/Majasaurus/aligned/images/val/IMG_2021.JPG: 640x480 (no detections), 47.9ms\n",
            "Speed: 3.3ms preprocess, 50.2ms inference, 2.2ms postprocess per image at shape (1, 3, 640, 640)\n",
            "Results saved to \u001b[1m/content/ultralytics/runs/detect/predict\u001b[0m\n",
            "62 labels saved to /content/ultralytics/runs/detect/predict/labels\n"
          ]
        }
      ]
    },
    {
      "cell_type": "code",
      "source": [
        "from datetime import date\n",
        "import locale\n",
        "locale.getpreferredencoding = lambda: \"UTF-8\""
      ],
      "metadata": {
        "id": "b4GstB6tbaev"
      },
      "execution_count": 10,
      "outputs": []
    },
    {
      "cell_type": "code",
      "source": [
        "%cd /content/ultralytics/runs/detect/\n",
        "!zip -r /content/results.zip train2"
      ],
      "metadata": {
        "id": "b4X_ubzkFnpG",
        "colab": {
          "base_uri": "https://localhost:8080/"
        },
        "outputId": "45e2bdbb-3d5c-4065-8915-362f3bc398ba"
      },
      "execution_count": 11,
      "outputs": [
        {
          "output_type": "stream",
          "name": "stdout",
          "text": [
            "/content/ultralytics/runs/detect\n",
            "  adding: train2/ (stored 0%)\n",
            "  adding: train2/train_batch0.jpg (deflated 4%)\n",
            "  adding: train2/train_batch2.jpg (deflated 2%)\n",
            "  adding: train2/val_batch1_labels.jpg (deflated 9%)\n",
            "  adding: train2/val_batch0_labels.jpg (deflated 18%)\n",
            "  adding: train2/weights/ (stored 0%)\n",
            "  adding: train2/weights/last.pt (deflated 8%)\n",
            "  adding: train2/weights/best.pt (deflated 8%)\n",
            "  adding: train2/events.out.tfevents.1687226683.4e718300c251.1364.1 (deflated 68%)\n",
            "  adding: train2/results.csv (deflated 78%)\n",
            "  adding: train2/F1_curve.png (deflated 12%)\n",
            "  adding: train2/val_batch0_pred.jpg (deflated 17%)\n",
            "  adding: train2/R_curve.png (deflated 14%)\n",
            "  adding: train2/train_batch1.jpg (deflated 4%)\n",
            "  adding: train2/val_batch1_pred.jpg (deflated 8%)\n",
            "  adding: train2/labels_correlogram.jpg (deflated 34%)\n",
            "  adding: train2/args.yaml (deflated 52%)\n",
            "  adding: train2/labels.jpg (deflated 32%)\n",
            "  adding: train2/P_curve.png (deflated 17%)\n",
            "  adding: train2/confusion_matrix.png (deflated 25%)\n",
            "  adding: train2/results.png (deflated 9%)\n",
            "  adding: train2/PR_curve.png (deflated 26%)\n",
            "  adding: train2/confusion_matrix_normalized.png (deflated 25%)\n"
          ]
        }
      ]
    },
    {
      "cell_type": "code",
      "source": [
        "!mv /content/results.zip /content/drive/MyDrive/Majasaurus/results"
      ],
      "metadata": {
        "id": "UXd-5aeaFork"
      },
      "execution_count": 12,
      "outputs": []
    },
    {
      "cell_type": "code",
      "source": [
        "%cd /content/drive/MyDrive/Majasaurus/results\n",
        "!unzip -o results.zip"
      ],
      "metadata": {
        "id": "UddyWjupH0uI",
        "colab": {
          "base_uri": "https://localhost:8080/"
        },
        "outputId": "371955cd-225a-4954-84c9-7e91b8efba68"
      },
      "execution_count": 13,
      "outputs": [
        {
          "output_type": "stream",
          "name": "stdout",
          "text": [
            "/content/drive/MyDrive/Majasaurus/results\n",
            "Archive:  results.zip\n",
            "   creating: train2/\n",
            "  inflating: train2/train_batch0.jpg  \n",
            "  inflating: train2/train_batch2.jpg  \n",
            "  inflating: train2/val_batch1_labels.jpg  \n",
            "  inflating: train2/val_batch0_labels.jpg  \n",
            "   creating: train2/weights/\n",
            "  inflating: train2/weights/last.pt  \n",
            "  inflating: train2/weights/best.pt  \n",
            "  inflating: train2/events.out.tfevents.1687226683.4e718300c251.1364.1  \n",
            "  inflating: train2/results.csv      \n",
            "  inflating: train2/F1_curve.png     \n",
            "  inflating: train2/val_batch0_pred.jpg  \n",
            "  inflating: train2/R_curve.png      \n",
            "  inflating: train2/train_batch1.jpg  \n",
            "  inflating: train2/val_batch1_pred.jpg  \n",
            "  inflating: train2/labels_correlogram.jpg  \n",
            "  inflating: train2/args.yaml        \n",
            "  inflating: train2/labels.jpg       \n",
            "  inflating: train2/P_curve.png      \n",
            "  inflating: train2/confusion_matrix.png  \n",
            "  inflating: train2/results.png      \n",
            "  inflating: train2/PR_curve.png     \n",
            "  inflating: train2/confusion_matrix_normalized.png  \n"
          ]
        }
      ]
    },
    {
      "cell_type": "code",
      "source": [
        "!mv train2 $(date +'%m%d-%H%M')"
      ],
      "metadata": {
        "id": "m0RAIw5FH4B8"
      },
      "execution_count": 15,
      "outputs": []
    },
    {
      "cell_type": "code",
      "source": [
        "!rm results.zip"
      ],
      "metadata": {
        "id": "fO_CYGKsIhTC"
      },
      "execution_count": 16,
      "outputs": []
    }
  ]
}