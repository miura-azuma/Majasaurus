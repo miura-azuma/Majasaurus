{
  "nbformat": 4,
  "nbformat_minor": 0,
  "metadata": {
    "colab": {
      "provenance": [],
      "gpuType": "T4",
      "authorship_tag": "ABX9TyOAAzJzaQozmHL2/zeZzice",
      "include_colab_link": true
    },
    "kernelspec": {
      "name": "python3",
      "display_name": "Python 3"
    },
    "language_info": {
      "name": "python"
    },
    "accelerator": "GPU"
  },
  "cells": [
    {
      "cell_type": "markdown",
      "metadata": {
        "id": "view-in-github",
        "colab_type": "text"
      },
      "source": [
        "<a href=\"https://colab.research.google.com/github/miura-azuma/Majasaurus/blob/main/create_model.ipynb\" target=\"_parent\"><img src=\"https://colab.research.google.com/assets/colab-badge.svg\" alt=\"Open In Colab\"/></a>"
      ]
    },
    {
      "cell_type": "code",
      "execution_count": null,
      "metadata": {
        "id": "KzwjgsFqkIKC"
      },
      "outputs": [],
      "source": [
        "%cd /content\n",
        "!git clone https://github.com/ultralytics/ultralytics"
      ]
    },
    {
      "cell_type": "code",
      "source": [
        "!git clone https://github.com/miura-azuma/Majasaurus.git"
      ],
      "metadata": {
        "id": "_kuKmhjCWYsu"
      },
      "execution_count": null,
      "outputs": []
    },
    {
      "cell_type": "code",
      "source": [
        "from google.colab import drive\n",
        "drive.mount('/content/drive')"
      ],
      "metadata": {
        "id": "otaFatzOe8lb"
      },
      "execution_count": null,
      "outputs": []
    },
    {
      "cell_type": "code",
      "source": [
        "%cd /content/ultralytics"
      ],
      "metadata": {
        "id": "KxAAKsrgl-br"
      },
      "execution_count": null,
      "outputs": []
    },
    {
      "cell_type": "code",
      "source": [
        "!pip install -e '.[dev]'"
      ],
      "metadata": {
        "id": "ikYIobdomLyW"
      },
      "execution_count": null,
      "outputs": []
    },
    {
      "cell_type": "code",
      "source": [
        "from ultralytics import YOLO\n",
        "model = YOLO(\"/content/drive/MyDrive/Majasaurus/results/0620-0214/weights/best.pt\") # last.pt\n",
        "model.train(data=\"/content/Majasaurus/datasets/config.yaml\", epochs=100, batch=16, workers=4, degrees=180.0, patience=2)"
      ],
      "metadata": {
        "id": "EyMhgXspJoFu"
      },
      "execution_count": null,
      "outputs": []
    },
    {
      "cell_type": "code",
      "source": [
        "# Validate the model\n",
        "model = YOLO(\"/content/ultralytics/runs/detect/train2/weights/best.pt\")\n",
        "metrics = model.val()  # no arguments needed, dataset and settings remembered\n",
        "metrics.box.map    # map50-95\n",
        "metrics.box.map50  # map50\n",
        "metrics.box.map75  # map75\n",
        "metrics.box.maps   # a list contains map50-95 of each category"
      ],
      "metadata": {
        "id": "qJlAoS69Ev6p"
      },
      "execution_count": null,
      "outputs": []
    },
    {
      "cell_type": "code",
      "source": [
        "from ultralytics import YOLO\n",
        "model = YOLO(\"/content/drive/MyDrive/Majasaurus/results/0616-1051/weights/last.pt\") #重みのファイルへのパス\n",
        "results = model(\"/content/Majasaurus/datasets/images/val/*.JPG\",save=True ,conf=0.5, iou=0.5, save_txt=True)"
      ],
      "metadata": {
        "id": "3TkOTVTzmlbw"
      },
      "execution_count": null,
      "outputs": []
    },
    {
      "cell_type": "code",
      "source": [
        "from datetime import date\n",
        "import locale\n",
        "locale.getpreferredencoding = lambda: \"UTF-8\""
      ],
      "metadata": {
        "id": "b4GstB6tbaev"
      },
      "execution_count": 10,
      "outputs": []
    },
    {
      "cell_type": "code",
      "source": [
        "%cd /content/ultralytics/runs/detect/\n",
        "!zip -r /content/results.zip train2"
      ],
      "metadata": {
        "id": "b4X_ubzkFnpG"
      },
      "execution_count": null,
      "outputs": []
    },
    {
      "cell_type": "code",
      "source": [
        "!mv /content/results.zip /content/drive/MyDrive/Majasaurus/results"
      ],
      "metadata": {
        "id": "UXd-5aeaFork"
      },
      "execution_count": 12,
      "outputs": []
    },
    {
      "cell_type": "code",
      "source": [
        "%cd /content/drive/MyDrive/Majasaurus/results\n",
        "!unzip -o results.zip"
      ],
      "metadata": {
        "id": "UddyWjupH0uI"
      },
      "execution_count": null,
      "outputs": []
    },
    {
      "cell_type": "code",
      "source": [
        "!mv train2 $(date +'%m%d-%H%M')"
      ],
      "metadata": {
        "id": "m0RAIw5FH4B8"
      },
      "execution_count": 15,
      "outputs": []
    },
    {
      "cell_type": "code",
      "source": [
        "!rm results.zip"
      ],
      "metadata": {
        "id": "fO_CYGKsIhTC"
      },
      "execution_count": 16,
      "outputs": []
    }
  ]
}